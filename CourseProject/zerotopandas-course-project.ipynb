{
 "cells": [
  {
   "cell_type": "markdown",
   "metadata": {},
   "source": [
    "# Best League of Legends champions in S13, patch 13.1.\n",
    "\n",
    "## Game description:\n",
    "\n",
    "* League of Legends (LoL) is an online multiplayer video game developed and published by Riot Games. It falls under the category of a multiplayer online battle arena (MOBA) game, where two teams, each consisting of five players, compete against each other.\n",
    "* In League of Legends, players assume the role of a \"champion,\" a powerful and unique character with various abilities and playstyles. The game offers a wide range of champions to choose from, each with their own strengths, weaknesses, and distinct playstyles. These champions are divided into different roles, such as tanks, mages, assassins, marksmen, and support, which define their primary functions within a team.\n",
    "\n",
    "## Objective in this project:\n",
    "\n",
    "* To determine the best champions and roles for climbing the leaderboard in League of Legends, we can analyze the dataset [League of Legends Stats: S13](https://www.kaggle.com/datasets/vivovinco/league-of-legends-stats-s13). This dataset provides valuable information and statistics about the game, which can help identify the champions and roles that have a higher likelihood of success.\n",
    "* By examining the dataset, we can look for patterns and trends in terms of win rates, pick rates, and other relevant metrics. Champions with consistently high win rates across a significant number of games can be considered strong contenders for climbing the leaderboard. It's important to note that the effectiveness of champions and roles can vary depending on the current state of the game, balance patches, and the specific strategies employed by players. Therefore, while the dataset can provide valuable insights, it's essential to stay up to date with the latest patches, balance changes, and meta shifts\n",
    "***Note:\n",
    "This analysis is specific to patch 13.1 because the game is always changing and it might or might not be very different from patch to patch***"
   ]
  },
  {
   "cell_type": "markdown",
   "metadata": {},
   "source": [
    "## Data Preparation\n",
    "\n",
    "Here we will prepare and clean the data (if necessary) before performing any analysis on our dataset.\n",
    "\n"
   ]
  },
  {
   "cell_type": "code",
   "execution_count": 8,
   "metadata": {},
   "outputs": [],
   "source": [
    "import pandas as pd"
   ]
  },
  {
   "cell_type": "markdown",
   "metadata": {},
   "source": [
    "First, let's load the dataset using 'pd.read_csv' function and then look at different informations about it."
   ]
  },
  {
   "cell_type": "code",
   "execution_count": 9,
   "metadata": {},
   "outputs": [],
   "source": [
    "df = pd.read_csv('league-of-legends-champion-stats-13.1.csv', delimiter=';')"
   ]
  },
  {
   "cell_type": "code",
   "execution_count": 10,
   "metadata": {
    "scrolled": true
   },
   "outputs": [
    {
     "data": {
      "text/html": [
       "<div>\n",
       "<style scoped>\n",
       "    .dataframe tbody tr th:only-of-type {\n",
       "        vertical-align: middle;\n",
       "    }\n",
       "\n",
       "    .dataframe tbody tr th {\n",
       "        vertical-align: top;\n",
       "    }\n",
       "\n",
       "    .dataframe thead th {\n",
       "        text-align: right;\n",
       "    }\n",
       "</style>\n",
       "<table border=\"1\" class=\"dataframe\">\n",
       "  <thead>\n",
       "    <tr style=\"text-align: right;\">\n",
       "      <th></th>\n",
       "      <th>Name</th>\n",
       "      <th>Class</th>\n",
       "      <th>Role</th>\n",
       "      <th>Tier</th>\n",
       "      <th>Score</th>\n",
       "      <th>Trend</th>\n",
       "      <th>Win %</th>\n",
       "      <th>Role %</th>\n",
       "      <th>Pick %</th>\n",
       "      <th>Ban %</th>\n",
       "      <th>KDA</th>\n",
       "    </tr>\n",
       "  </thead>\n",
       "  <tbody>\n",
       "    <tr>\n",
       "      <th>0</th>\n",
       "      <td>Aatrox</td>\n",
       "      <td>Fighter</td>\n",
       "      <td>TOP</td>\n",
       "      <td>S</td>\n",
       "      <td>57.63</td>\n",
       "      <td>-31.86</td>\n",
       "      <td>47.68%</td>\n",
       "      <td>91.63%</td>\n",
       "      <td>6.62%</td>\n",
       "      <td>11.98%</td>\n",
       "      <td>1.77</td>\n",
       "    </tr>\n",
       "    <tr>\n",
       "      <th>1</th>\n",
       "      <td>Ahri</td>\n",
       "      <td>Mage</td>\n",
       "      <td>MID</td>\n",
       "      <td>S</td>\n",
       "      <td>57.18</td>\n",
       "      <td>4.55</td>\n",
       "      <td>49.50%</td>\n",
       "      <td>94.65%</td>\n",
       "      <td>5.81%</td>\n",
       "      <td>1.73%</td>\n",
       "      <td>2.58</td>\n",
       "    </tr>\n",
       "    <tr>\n",
       "      <th>2</th>\n",
       "      <td>Akali</td>\n",
       "      <td>Assassin</td>\n",
       "      <td>MID</td>\n",
       "      <td>S</td>\n",
       "      <td>65.49</td>\n",
       "      <td>4.33</td>\n",
       "      <td>48.41%</td>\n",
       "      <td>75.74%</td>\n",
       "      <td>8.11%</td>\n",
       "      <td>13.02%</td>\n",
       "      <td>2.37</td>\n",
       "    </tr>\n",
       "    <tr>\n",
       "      <th>3</th>\n",
       "      <td>Akali</td>\n",
       "      <td>Assassin</td>\n",
       "      <td>TOP</td>\n",
       "      <td>C</td>\n",
       "      <td>39.63</td>\n",
       "      <td>-1.51</td>\n",
       "      <td>45.92%</td>\n",
       "      <td>23.50%</td>\n",
       "      <td>2.55%</td>\n",
       "      <td>13.02%</td>\n",
       "      <td>2.00</td>\n",
       "    </tr>\n",
       "    <tr>\n",
       "      <th>4</th>\n",
       "      <td>Akshan</td>\n",
       "      <td>Marksman</td>\n",
       "      <td>MID</td>\n",
       "      <td>A</td>\n",
       "      <td>49.39</td>\n",
       "      <td>0.34</td>\n",
       "      <td>51.62%</td>\n",
       "      <td>66.03%</td>\n",
       "      <td>2.75%</td>\n",
       "      <td>3.79%</td>\n",
       "      <td>2.26</td>\n",
       "    </tr>\n",
       "    <tr>\n",
       "      <th>...</th>\n",
       "      <td>...</td>\n",
       "      <td>...</td>\n",
       "      <td>...</td>\n",
       "      <td>...</td>\n",
       "      <td>...</td>\n",
       "      <td>...</td>\n",
       "      <td>...</td>\n",
       "      <td>...</td>\n",
       "      <td>...</td>\n",
       "      <td>...</td>\n",
       "      <td>...</td>\n",
       "    </tr>\n",
       "    <tr>\n",
       "      <th>239</th>\n",
       "      <td>Zilean</td>\n",
       "      <td>Support</td>\n",
       "      <td>MID</td>\n",
       "      <td>A</td>\n",
       "      <td>51.52</td>\n",
       "      <td>-3.47</td>\n",
       "      <td>53.33%</td>\n",
       "      <td>15.52%</td>\n",
       "      <td>0.49%</td>\n",
       "      <td>1.40%</td>\n",
       "      <td>3.59</td>\n",
       "    </tr>\n",
       "    <tr>\n",
       "      <th>240</th>\n",
       "      <td>Zilean</td>\n",
       "      <td>Support</td>\n",
       "      <td>SUPPORT</td>\n",
       "      <td>A</td>\n",
       "      <td>48.35</td>\n",
       "      <td>-2.49</td>\n",
       "      <td>50.95%</td>\n",
       "      <td>79.72%</td>\n",
       "      <td>2.67%</td>\n",
       "      <td>1.40%</td>\n",
       "      <td>3.11</td>\n",
       "    </tr>\n",
       "    <tr>\n",
       "      <th>241</th>\n",
       "      <td>Zoe</td>\n",
       "      <td>Mage</td>\n",
       "      <td>MID</td>\n",
       "      <td>A</td>\n",
       "      <td>48.46</td>\n",
       "      <td>2.43</td>\n",
       "      <td>49.14%</td>\n",
       "      <td>87.85%</td>\n",
       "      <td>3.45%</td>\n",
       "      <td>1.45%</td>\n",
       "      <td>2.60</td>\n",
       "    </tr>\n",
       "    <tr>\n",
       "      <th>242</th>\n",
       "      <td>Zoe</td>\n",
       "      <td>Mage</td>\n",
       "      <td>SUPPORT</td>\n",
       "      <td>D</td>\n",
       "      <td>28.33</td>\n",
       "      <td>-3.55</td>\n",
       "      <td>47.73%</td>\n",
       "      <td>10.03%</td>\n",
       "      <td>0.37%</td>\n",
       "      <td>1.45%</td>\n",
       "      <td>2.14</td>\n",
       "    </tr>\n",
       "    <tr>\n",
       "      <th>243</th>\n",
       "      <td>Zyra</td>\n",
       "      <td>Mage</td>\n",
       "      <td>SUPPORT</td>\n",
       "      <td>A</td>\n",
       "      <td>47.97</td>\n",
       "      <td>-4.48</td>\n",
       "      <td>51.13%</td>\n",
       "      <td>91.23%</td>\n",
       "      <td>3.67%</td>\n",
       "      <td>1.94%</td>\n",
       "      <td>2.19</td>\n",
       "    </tr>\n",
       "  </tbody>\n",
       "</table>\n",
       "<p>244 rows × 11 columns</p>\n",
       "</div>"
      ],
      "text/plain": [
       "       Name     Class     Role Tier  Score  Trend   Win %  Role % Pick %  \\\n",
       "0    Aatrox   Fighter      TOP    S  57.63 -31.86  47.68%  91.63%  6.62%   \n",
       "1      Ahri      Mage      MID    S  57.18   4.55  49.50%  94.65%  5.81%   \n",
       "2     Akali  Assassin      MID    S  65.49   4.33  48.41%  75.74%  8.11%   \n",
       "3     Akali  Assassin      TOP    C  39.63  -1.51  45.92%  23.50%  2.55%   \n",
       "4    Akshan  Marksman      MID    A  49.39   0.34  51.62%  66.03%  2.75%   \n",
       "..      ...       ...      ...  ...    ...    ...     ...     ...    ...   \n",
       "239  Zilean   Support      MID    A  51.52  -3.47  53.33%  15.52%  0.49%   \n",
       "240  Zilean   Support  SUPPORT    A  48.35  -2.49  50.95%  79.72%  2.67%   \n",
       "241     Zoe      Mage      MID    A  48.46   2.43  49.14%  87.85%  3.45%   \n",
       "242     Zoe      Mage  SUPPORT    D  28.33  -3.55  47.73%  10.03%  0.37%   \n",
       "243    Zyra      Mage  SUPPORT    A  47.97  -4.48  51.13%  91.23%  3.67%   \n",
       "\n",
       "      Ban %   KDA  \n",
       "0    11.98%  1.77  \n",
       "1     1.73%  2.58  \n",
       "2    13.02%  2.37  \n",
       "3    13.02%  2.00  \n",
       "4     3.79%  2.26  \n",
       "..      ...   ...  \n",
       "239   1.40%  3.59  \n",
       "240   1.40%  3.11  \n",
       "241   1.45%  2.60  \n",
       "242   1.45%  2.14  \n",
       "243   1.94%  2.19  \n",
       "\n",
       "[244 rows x 11 columns]"
      ]
     },
     "execution_count": 10,
     "metadata": {},
     "output_type": "execute_result"
    }
   ],
   "source": [
    "df"
   ]
  },
  {
   "cell_type": "code",
   "execution_count": 11,
   "metadata": {},
   "outputs": [
    {
     "name": "stdout",
     "output_type": "stream",
     "text": [
      "<class 'pandas.core.frame.DataFrame'>\n",
      "RangeIndex: 244 entries, 0 to 243\n",
      "Data columns (total 11 columns):\n",
      " #   Column  Non-Null Count  Dtype  \n",
      "---  ------  --------------  -----  \n",
      " 0   Name    244 non-null    object \n",
      " 1   Class   243 non-null    object \n",
      " 2   Role    244 non-null    object \n",
      " 3   Tier    244 non-null    object \n",
      " 4   Score   244 non-null    float64\n",
      " 5   Trend   244 non-null    float64\n",
      " 6   Win %   244 non-null    object \n",
      " 7   Role %  244 non-null    object \n",
      " 8   Pick %  244 non-null    object \n",
      " 9   Ban %   244 non-null    object \n",
      " 10  KDA     244 non-null    float64\n",
      "dtypes: float64(3), object(8)\n",
      "memory usage: 21.1+ KB\n"
     ]
    }
   ],
   "source": [
    "df.info()"
   ]
  },
  {
   "cell_type": "code",
   "execution_count": 12,
   "metadata": {},
   "outputs": [
    {
     "data": {
      "text/plain": [
       "Name      0\n",
       "Class     1\n",
       "Role      0\n",
       "Tier      0\n",
       "Score     0\n",
       "Trend     0\n",
       "Win %     0\n",
       "Role %    0\n",
       "Pick %    0\n",
       "Ban %     0\n",
       "KDA       0\n",
       "dtype: int64"
      ]
     },
     "execution_count": 12,
     "metadata": {},
     "output_type": "execute_result"
    }
   ],
   "source": [
    "df.isna().sum()"
   ]
  },
  {
   "cell_type": "code",
   "execution_count": 13,
   "metadata": {},
   "outputs": [
    {
     "name": "stdout",
     "output_type": "stream",
     "text": [
      "71    K'Sante\n",
      "Name: Name, dtype: object\n"
     ]
    }
   ],
   "source": [
    "missing_class = df['Class'].isna()\n",
    "name_with_missing_class = df.loc[missing_class, 'Name']\n",
    "print(name_with_missing_class)\n"
   ]
  },
  {
   "cell_type": "markdown",
   "metadata": {},
   "source": [
    "Looks like the Class data for K'Sante is missing, let's fix it."
   ]
  },
  {
   "cell_type": "code",
   "execution_count": 14,
   "metadata": {},
   "outputs": [],
   "source": [
    "df.loc[df['Name'] == \"K'Sante\", \"Class\"] = \"Tank\"\n",
    "# We changed the missing value to Tank, since we know his Class from our knowledge"
   ]
  },
  {
   "cell_type": "code",
   "execution_count": 15,
   "metadata": {
    "scrolled": false
   },
   "outputs": [
    {
     "data": {
      "text/html": [
       "<div>\n",
       "<style scoped>\n",
       "    .dataframe tbody tr th:only-of-type {\n",
       "        vertical-align: middle;\n",
       "    }\n",
       "\n",
       "    .dataframe tbody tr th {\n",
       "        vertical-align: top;\n",
       "    }\n",
       "\n",
       "    .dataframe thead th {\n",
       "        text-align: right;\n",
       "    }\n",
       "</style>\n",
       "<table border=\"1\" class=\"dataframe\">\n",
       "  <thead>\n",
       "    <tr style=\"text-align: right;\">\n",
       "      <th></th>\n",
       "      <th>Name</th>\n",
       "      <th>Class</th>\n",
       "      <th>Role</th>\n",
       "      <th>Tier</th>\n",
       "      <th>Score</th>\n",
       "      <th>Trend</th>\n",
       "      <th>Win %</th>\n",
       "      <th>Role %</th>\n",
       "      <th>Pick %</th>\n",
       "      <th>Ban %</th>\n",
       "      <th>KDA</th>\n",
       "    </tr>\n",
       "  </thead>\n",
       "  <tbody>\n",
       "    <tr>\n",
       "      <th>69</th>\n",
       "      <td>Jhin</td>\n",
       "      <td>Marksman</td>\n",
       "      <td>ADC</td>\n",
       "      <td>God</td>\n",
       "      <td>83.12</td>\n",
       "      <td>3.82</td>\n",
       "      <td>51.43%</td>\n",
       "      <td>92.56%</td>\n",
       "      <td>17.41%</td>\n",
       "      <td>3.40%</td>\n",
       "      <td>3.06</td>\n",
       "    </tr>\n",
       "    <tr>\n",
       "      <th>70</th>\n",
       "      <td>Jinx</td>\n",
       "      <td>Marksman</td>\n",
       "      <td>ADC</td>\n",
       "      <td>B</td>\n",
       "      <td>47.97</td>\n",
       "      <td>-3.01</td>\n",
       "      <td>50.67%</td>\n",
       "      <td>98.56%</td>\n",
       "      <td>7.44%</td>\n",
       "      <td>0.54%</td>\n",
       "      <td>2.32</td>\n",
       "    </tr>\n",
       "    <tr>\n",
       "      <th>71</th>\n",
       "      <td>K'Sante</td>\n",
       "      <td>Tank</td>\n",
       "      <td>TOP</td>\n",
       "      <td>S</td>\n",
       "      <td>62.32</td>\n",
       "      <td>-15.10</td>\n",
       "      <td>47.52%</td>\n",
       "      <td>93.24%</td>\n",
       "      <td>7.24%</td>\n",
       "      <td>15.11%</td>\n",
       "      <td>1.97</td>\n",
       "    </tr>\n",
       "    <tr>\n",
       "      <th>72</th>\n",
       "      <td>Kai'Sa</td>\n",
       "      <td>Marksman</td>\n",
       "      <td>ADC</td>\n",
       "      <td>God</td>\n",
       "      <td>81.95</td>\n",
       "      <td>-1.78</td>\n",
       "      <td>50.83%</td>\n",
       "      <td>96.92%</td>\n",
       "      <td>18.91%</td>\n",
       "      <td>3.81%</td>\n",
       "      <td>2.51</td>\n",
       "    </tr>\n",
       "    <tr>\n",
       "      <th>73</th>\n",
       "      <td>Kalista</td>\n",
       "      <td>Marksman</td>\n",
       "      <td>ADC</td>\n",
       "      <td>D</td>\n",
       "      <td>27.85</td>\n",
       "      <td>-2.37</td>\n",
       "      <td>47.95%</td>\n",
       "      <td>86.37%</td>\n",
       "      <td>2.66%</td>\n",
       "      <td>0.76%</td>\n",
       "      <td>2.22</td>\n",
       "    </tr>\n",
       "    <tr>\n",
       "      <th>74</th>\n",
       "      <td>Karma</td>\n",
       "      <td>Mage</td>\n",
       "      <td>SUPPORT</td>\n",
       "      <td>God</td>\n",
       "      <td>71.63</td>\n",
       "      <td>9.20</td>\n",
       "      <td>49.52%</td>\n",
       "      <td>83.31%</td>\n",
       "      <td>9.99%</td>\n",
       "      <td>3.42%</td>\n",
       "      <td>2.80</td>\n",
       "    </tr>\n",
       "    <tr>\n",
       "      <th>75</th>\n",
       "      <td>Karma</td>\n",
       "      <td>Mage</td>\n",
       "      <td>MID</td>\n",
       "      <td>B</td>\n",
       "      <td>47.01</td>\n",
       "      <td>0.00</td>\n",
       "      <td>50.63%</td>\n",
       "      <td>10.41%</td>\n",
       "      <td>1.29%</td>\n",
       "      <td>3.42%</td>\n",
       "      <td>3.17</td>\n",
       "    </tr>\n",
       "  </tbody>\n",
       "</table>\n",
       "</div>"
      ],
      "text/plain": [
       "       Name     Class     Role Tier  Score  Trend   Win %  Role %  Pick %  \\\n",
       "69     Jhin  Marksman      ADC  God  83.12   3.82  51.43%  92.56%  17.41%   \n",
       "70     Jinx  Marksman      ADC    B  47.97  -3.01  50.67%  98.56%   7.44%   \n",
       "71  K'Sante      Tank      TOP    S  62.32 -15.10  47.52%  93.24%   7.24%   \n",
       "72   Kai'Sa  Marksman      ADC  God  81.95  -1.78  50.83%  96.92%  18.91%   \n",
       "73  Kalista  Marksman      ADC    D  27.85  -2.37  47.95%  86.37%   2.66%   \n",
       "74    Karma      Mage  SUPPORT  God  71.63   9.20  49.52%  83.31%   9.99%   \n",
       "75    Karma      Mage      MID    B  47.01   0.00  50.63%  10.41%   1.29%   \n",
       "\n",
       "     Ban %   KDA  \n",
       "69   3.40%  3.06  \n",
       "70   0.54%  2.32  \n",
       "71  15.11%  1.97  \n",
       "72   3.81%  2.51  \n",
       "73   0.76%  2.22  \n",
       "74   3.42%  2.80  \n",
       "75   3.42%  3.17  "
      ]
     },
     "execution_count": 15,
     "metadata": {},
     "output_type": "execute_result"
    }
   ],
   "source": [
    "df.loc[69:75]"
   ]
  },
  {
   "cell_type": "markdown",
   "metadata": {},
   "source": [
    "We also have to remove the '%' from the columns and transform them from strings to floats so we can perform operations on them."
   ]
  },
  {
   "cell_type": "code",
   "execution_count": 16,
   "metadata": {},
   "outputs": [],
   "source": [
    "df['Win %'] = df['Win %'].str.rstrip('%').astype(float)\n",
    "df['Role %'] = df['Role %'].str.rstrip('%').astype(float)\n",
    "df['Ban %'] = df['Ban %'].str.rstrip('%').astype(float)\n",
    "df['Pick %'] = df['Pick %'].str.rstrip('%').astype(float)"
   ]
  },
  {
   "cell_type": "markdown",
   "metadata": {},
   "source": [
    "Looks like the dataframe is in a good condition now, now we can start doing some analysis"
   ]
  },
  {
   "cell_type": "markdown",
   "metadata": {},
   "source": [
    "## Exploratory Analysis and Visualization\n",
    "\n",
    "**Here we'll do our analysis and visualization**\n",
    "\n"
   ]
  },
  {
   "cell_type": "markdown",
   "metadata": {},
   "source": [
    "Let's begin by importing`matplotlib.pyplot` and `seaborn`."
   ]
  },
  {
   "cell_type": "code",
   "execution_count": 18,
   "metadata": {},
   "outputs": [],
   "source": [
    "import seaborn as sns\n",
    "import matplotlib\n",
    "import matplotlib.pyplot as plt\n",
    "%matplotlib inline\n",
    "\n",
    "sns.set_style('darkgrid')\n",
    "matplotlib.rcParams['font.size'] = 14\n",
    "matplotlib.rcParams['figure.figsize'] = (9, 5)\n",
    "matplotlib.rcParams['figure.facecolor'] = '#00000000'"
   ]
  },
  {
   "cell_type": "markdown",
   "metadata": {},
   "source": [
    "**Let's look at some statistics first**"
   ]
  },
  {
   "cell_type": "code",
   "execution_count": 19,
   "metadata": {
    "scrolled": true
   },
   "outputs": [
    {
     "data": {
      "text/html": [
       "<div>\n",
       "<style scoped>\n",
       "    .dataframe tbody tr th:only-of-type {\n",
       "        vertical-align: middle;\n",
       "    }\n",
       "\n",
       "    .dataframe tbody tr th {\n",
       "        vertical-align: top;\n",
       "    }\n",
       "\n",
       "    .dataframe thead th {\n",
       "        text-align: right;\n",
       "    }\n",
       "</style>\n",
       "<table border=\"1\" class=\"dataframe\">\n",
       "  <thead>\n",
       "    <tr style=\"text-align: right;\">\n",
       "      <th></th>\n",
       "      <th>Score</th>\n",
       "      <th>Trend</th>\n",
       "      <th>Win %</th>\n",
       "      <th>Role %</th>\n",
       "      <th>Pick %</th>\n",
       "      <th>Ban %</th>\n",
       "      <th>KDA</th>\n",
       "    </tr>\n",
       "  </thead>\n",
       "  <tbody>\n",
       "    <tr>\n",
       "      <th>count</th>\n",
       "      <td>244.000000</td>\n",
       "      <td>244.000000</td>\n",
       "      <td>244.000000</td>\n",
       "      <td>244.000000</td>\n",
       "      <td>244.000000</td>\n",
       "      <td>244.000000</td>\n",
       "      <td>244.000000</td>\n",
       "    </tr>\n",
       "    <tr>\n",
       "      <th>mean</th>\n",
       "      <td>50.000164</td>\n",
       "      <td>-0.677992</td>\n",
       "      <td>50.230615</td>\n",
       "      <td>62.443238</td>\n",
       "      <td>3.940779</td>\n",
       "      <td>5.479262</td>\n",
       "      <td>2.371230</td>\n",
       "    </tr>\n",
       "    <tr>\n",
       "      <th>std</th>\n",
       "      <td>13.587751</td>\n",
       "      <td>9.378966</td>\n",
       "      <td>1.771772</td>\n",
       "      <td>32.286623</td>\n",
       "      <td>3.507838</td>\n",
       "      <td>7.233010</td>\n",
       "      <td>0.410697</td>\n",
       "    </tr>\n",
       "    <tr>\n",
       "      <th>min</th>\n",
       "      <td>21.300000</td>\n",
       "      <td>-35.520000</td>\n",
       "      <td>44.030000</td>\n",
       "      <td>10.020000</td>\n",
       "      <td>0.140000</td>\n",
       "      <td>0.140000</td>\n",
       "      <td>1.480000</td>\n",
       "    </tr>\n",
       "    <tr>\n",
       "      <th>25%</th>\n",
       "      <td>41.462500</td>\n",
       "      <td>-4.522500</td>\n",
       "      <td>49.297500</td>\n",
       "      <td>26.145000</td>\n",
       "      <td>1.290000</td>\n",
       "      <td>0.850000</td>\n",
       "      <td>2.080000</td>\n",
       "    </tr>\n",
       "    <tr>\n",
       "      <th>50%</th>\n",
       "      <td>47.905000</td>\n",
       "      <td>-0.470000</td>\n",
       "      <td>50.305000</td>\n",
       "      <td>76.615000</td>\n",
       "      <td>2.855000</td>\n",
       "      <td>2.450000</td>\n",
       "      <td>2.350000</td>\n",
       "    </tr>\n",
       "    <tr>\n",
       "      <th>75%</th>\n",
       "      <td>56.735000</td>\n",
       "      <td>3.640000</td>\n",
       "      <td>51.420000</td>\n",
       "      <td>92.107500</td>\n",
       "      <td>5.795000</td>\n",
       "      <td>6.785000</td>\n",
       "      <td>2.592500</td>\n",
       "    </tr>\n",
       "    <tr>\n",
       "      <th>max</th>\n",
       "      <td>97.260000</td>\n",
       "      <td>50.000000</td>\n",
       "      <td>55.150000</td>\n",
       "      <td>99.700000</td>\n",
       "      <td>20.280000</td>\n",
       "      <td>36.900000</td>\n",
       "      <td>3.880000</td>\n",
       "    </tr>\n",
       "  </tbody>\n",
       "</table>\n",
       "</div>"
      ],
      "text/plain": [
       "            Score       Trend       Win %      Role %      Pick %       Ban %  \\\n",
       "count  244.000000  244.000000  244.000000  244.000000  244.000000  244.000000   \n",
       "mean    50.000164   -0.677992   50.230615   62.443238    3.940779    5.479262   \n",
       "std     13.587751    9.378966    1.771772   32.286623    3.507838    7.233010   \n",
       "min     21.300000  -35.520000   44.030000   10.020000    0.140000    0.140000   \n",
       "25%     41.462500   -4.522500   49.297500   26.145000    1.290000    0.850000   \n",
       "50%     47.905000   -0.470000   50.305000   76.615000    2.855000    2.450000   \n",
       "75%     56.735000    3.640000   51.420000   92.107500    5.795000    6.785000   \n",
       "max     97.260000   50.000000   55.150000   99.700000   20.280000   36.900000   \n",
       "\n",
       "              KDA  \n",
       "count  244.000000  \n",
       "mean     2.371230  \n",
       "std      0.410697  \n",
       "min      1.480000  \n",
       "25%      2.080000  \n",
       "50%      2.350000  \n",
       "75%      2.592500  \n",
       "max      3.880000  "
      ]
     },
     "execution_count": 19,
     "metadata": {},
     "output_type": "execute_result"
    }
   ],
   "source": [
    "df.describe()"
   ]
  },
  {
   "cell_type": "markdown",
   "metadata": {},
   "source": [
    "**Let's explore the relationship between 'Score' and 'Trend' columns using a scatter plot**"
   ]
  },
  {
   "cell_type": "code",
   "execution_count": 20,
   "metadata": {},
   "outputs": [
    {
     "data": {
      "image/png": "[encoded data removed]",
      "text/plain": [
       "<Figure size 648x360 with 1 Axes>"
      ]
     },
     "metadata": {
      "needs_background": "light"
     },
     "output_type": "display_data"
    }
   ],
   "source": [
    "sns.scatterplot(data=df, x='Score', y='Trend').set(title=\"Relationship between Score and Trend\");"
   ]
  },
  {
   "cell_type": "markdown",
   "metadata": {},
   "source": [
    "The 'Score' column has a wide range of values, indicating varying performance levels.\n",
    "The 'Trend' column shows both positive and negative trends, suggesting fluctuating performance over time.\n",
    "There is a positive correlation between 'Score' and 'Trend', suggesting that higher scores are associated with positive trends."
   ]
  },
  {
   "cell_type": "markdown",
   "metadata": {},
   "source": [
    "**Bar chart to explore the distribution of 'Class' column**"
   ]
  },
  {
   "cell_type": "code",
   "execution_count": 21,
   "metadata": {},
   "outputs": [
    {
     "data": {
      "image/png": "[encoded data removed]",
      "text/plain": [
       "<Figure size 648x360 with 1 Axes>"
      ]
     },
     "metadata": {
      "needs_background": "light"
     },
     "output_type": "display_data"
    }
   ],
   "source": [
    "class_counts = df['Class'].value_counts()\n",
    "plt.bar(class_counts.index, class_counts.values)\n",
    "plt.xlabel('Class')\n",
    "plt.ylabel('Count')\n",
    "plt.title('Distribution of Class')\n",
    "plt.xticks(rotation=45)\n",
    "plt.show()"
   ]
  },
  {
   "cell_type": "markdown",
   "metadata": {},
   "source": [
    "The dominant classes are 'Fighter' and 'Mage', which means that more champions were created for those specific Classes."
   ]
  },
  {
   "cell_type": "markdown",
   "metadata": {},
   "source": [
    "**Visualize the distribution of 'Score' for each 'Class':**"
   ]
  },
  {
   "cell_type": "code",
   "execution_count": 22,
   "metadata": {},
   "outputs": [
    {
     "data": {
      "image/png": "[encoded data removed]",
      "text/plain": [
       "<Figure size 648x360 with 1 Axes>"
      ]
     },
     "metadata": {
      "needs_background": "light"
     },
     "output_type": "display_data"
    }
   ],
   "source": [
    "sns.barplot(data=df, x='Class', y='Score').set_title(\"Distribution of Score by Class\")\n",
    "plt.xticks(rotation=45)\n",
    "plt.show()"
   ]
  },
  {
   "cell_type": "markdown",
   "metadata": {},
   "source": [
    "Looks like the distribution of scores by classes is relatively equal, but for some classes like Fighter and Mage the variation is lower."
   ]
  },
  {
   "cell_type": "markdown",
   "metadata": {},
   "source": [
    "**Visualize the distribution of roles and tiers**"
   ]
  },
  {
   "cell_type": "code",
   "execution_count": 23,
   "metadata": {
    "scrolled": true
   },
   "outputs": [
    {
     "data": {
      "image/png": "[encoded data removed]",
      "text/plain": [
       "<Figure size 648x360 with 1 Axes>"
      ]
     },
     "metadata": {
      "needs_background": "light"
     },
     "output_type": "display_data"
    }
   ],
   "source": [
    "sns.countplot(data=df, x='Role', hue='Tier')\n",
    "plt.title('Distribution of Roles and Tiers')\n",
    "plt.legend(title='Tier')\n",
    "plt.show()\n"
   ]
  },
  {
   "cell_type": "markdown",
   "metadata": {},
   "source": [
    "By looking at this we can see that the highest amount of champions in higher tiers are in MID and in the ADC there are way less overall and the distribution is almost equal."
   ]
  },
  {
   "cell_type": "code",
   "execution_count": 24,
   "metadata": {},
   "outputs": [
    {
     "data": {
      "image/png": "[encoded data removed]",
      "text/plain": [
       "<Figure size 648x360 with 1 Axes>"
      ]
     },
     "metadata": {
      "needs_background": "light"
     },
     "output_type": "display_data"
    }
   ],
   "source": [
    "top_10_kda = df.nlargest(10, 'KDA')\n",
    "sns.barplot(data=top_10_kda, x='Name', y='Win %')\n",
    "plt.title('Top 10 Highest KDA Champions by Win Rate')\n",
    "plt.xlabel('Champion Name')\n",
    "plt.ylabel('Win Rate')\n",
    "plt.xticks(rotation=45)\n",
    "plt.show()"
   ]
  },
  {
   "cell_type": "markdown",
   "metadata": {},
   "source": [
    "Here we can see the top 10 Highest KDA champions and their winrate. And by looking at the first one we can see that KDA is not always relevant when talking about how much a champion is winning."
   ]
  },
  {
   "cell_type": "code",
   "execution_count": 25,
   "metadata": {},
   "outputs": [
    {
     "data": {
      "image/png": "[encoded data removed]",
      "text/plain": [
       "<Figure size 648x360 with 1 Axes>"
      ]
     },
     "metadata": {
      "needs_background": "light"
     },
     "output_type": "display_data"
    }
   ],
   "source": [
    "sns.scatterplot(data=df, x='Pick %', y='Ban %', hue='Tier', s=100)\n",
    "plt.title('Relationship between Pick % and Ban %');"
   ]
  },
  {
   "cell_type": "markdown",
   "metadata": {},
   "source": [
    "We can see that the pick and ban rates are relatively stacked. But also if the tier is higher, the pick and ban rates are also high."
   ]
  },
  {
   "cell_type": "markdown",
   "metadata": {},
   "source": [
    "## Asking and Answering Questions\n",
    "\n",
    "### Here we'll ask and answer some questions related to our dataset"
   ]
  },
  {
   "cell_type": "markdown",
   "metadata": {},
   "source": [
    "#### Q1: Which champions are the most played?"
   ]
  },
  {
   "cell_type": "code",
   "execution_count": 26,
   "metadata": {},
   "outputs": [
    {
     "name": "stdout",
     "output_type": "stream",
     "text": [
      "23     Caitlyn\n",
      "72      Kai'Sa\n",
      "39      Ezreal\n",
      "69        Jhin\n",
      "99         Lux\n",
      "113       Nami\n",
      "65         Jax\n",
      "153     Samira\n",
      "224      Yasuo\n",
      "200      Varus\n",
      "Name: Name, dtype: object\n"
     ]
    }
   ],
   "source": [
    "sorted_df = df.sort_values(by='Pick %', ascending=False)\n",
    "top_10_pick_rates = sorted_df.head(10)\n",
    "print(top_10_pick_rates['Name'])"
   ]
  },
  {
   "cell_type": "markdown",
   "metadata": {},
   "source": [
    "The provided information shows the top 10 most played champions based on their pick rates. These champions are frequently chosen by players in the game.\n",
    "Note that these rankings are based on the pick rates at the time the data was collected. Pick rates may change over time as the meta and player preferences evolve."
   ]
  },
  {
   "cell_type": "markdown",
   "metadata": {},
   "source": [
    "#### Q2: In which role are the most champions played?"
   ]
  },
  {
   "cell_type": "code",
   "execution_count": 27,
   "metadata": {},
   "outputs": [
    {
     "name": "stdout",
     "output_type": "stream",
     "text": [
      "Most Played Role: MID\n"
     ]
    }
   ],
   "source": [
    "role_counts = df['Role'].value_counts()\n",
    "most_played_role = role_counts.idxmax()\n",
    "print(\"Most Played Role:\", most_played_role)"
   ]
  },
  {
   "cell_type": "markdown",
   "metadata": {},
   "source": [
    "We can see that the most dominant role for the champions is MID. That is mostly because the MID role is versatile allowing different Classes of champions to be played."
   ]
  },
  {
   "cell_type": "markdown",
   "metadata": {},
   "source": [
    "#### Q3: Which class of champions is the most played?"
   ]
  },
  {
   "cell_type": "code",
   "execution_count": 28,
   "metadata": {},
   "outputs": [
    {
     "name": "stdout",
     "output_type": "stream",
     "text": [
      "Most Played Class: Fighter\n"
     ]
    }
   ],
   "source": [
    "class_counts = df['Class'].value_counts()\n",
    "most_played_class = class_counts.idxmax()\n",
    "print(\"Most Played Class:\", most_played_class)"
   ]
  },
  {
   "cell_type": "code",
   "execution_count": 29,
   "metadata": {},
   "outputs": [
    {
     "name": "stdout",
     "output_type": "stream",
     "text": [
      "TOP        35\n",
      "JUNGLE     21\n",
      "MID        13\n",
      "ADC         2\n",
      "SUPPORT     1\n",
      "Name: Role, dtype: int64\n"
     ]
    }
   ],
   "source": [
    "fighters_df = df[df['Class'] == 'Fighter']\n",
    "role_counts = fighters_df['Role'].value_counts()\n",
    "print(role_counts)\n"
   ]
  },
  {
   "cell_type": "markdown",
   "metadata": {},
   "source": [
    "We can see that the most played class is Fighter because it is distributed in three different roles. Fighters can go TOP, JUNGLE and MID."
   ]
  },
  {
   "cell_type": "markdown",
   "metadata": {},
   "source": [
    "#### Q4: Which champions are least played?"
   ]
  },
  {
   "cell_type": "code",
   "execution_count": 30,
   "metadata": {},
   "outputs": [
    {
     "data": {
      "text/html": [
       "<div>\n",
       "<style scoped>\n",
       "    .dataframe tbody tr th:only-of-type {\n",
       "        vertical-align: middle;\n",
       "    }\n",
       "\n",
       "    .dataframe tbody tr th {\n",
       "        vertical-align: top;\n",
       "    }\n",
       "\n",
       "    .dataframe thead th {\n",
       "        text-align: right;\n",
       "    }\n",
       "</style>\n",
       "<table border=\"1\" class=\"dataframe\">\n",
       "  <thead>\n",
       "    <tr style=\"text-align: right;\">\n",
       "      <th></th>\n",
       "      <th>Pick Rate</th>\n",
       "      <th>Win Rate</th>\n",
       "    </tr>\n",
       "    <tr>\n",
       "      <th>Name</th>\n",
       "      <th></th>\n",
       "      <th></th>\n",
       "    </tr>\n",
       "  </thead>\n",
       "  <tbody>\n",
       "    <tr>\n",
       "      <th>Ivern</th>\n",
       "      <td>0.14</td>\n",
       "      <td>44.03</td>\n",
       "    </tr>\n",
       "    <tr>\n",
       "      <th>Skarner</th>\n",
       "      <td>0.17</td>\n",
       "      <td>44.36</td>\n",
       "    </tr>\n",
       "    <tr>\n",
       "      <th>Quinn</th>\n",
       "      <td>0.17</td>\n",
       "      <td>44.44</td>\n",
       "    </tr>\n",
       "    <tr>\n",
       "      <th>Neeko</th>\n",
       "      <td>0.21</td>\n",
       "      <td>45.89</td>\n",
       "    </tr>\n",
       "    <tr>\n",
       "      <th>Annie</th>\n",
       "      <td>0.21</td>\n",
       "      <td>45.92</td>\n",
       "    </tr>\n",
       "    <tr>\n",
       "      <th>Shyvana</th>\n",
       "      <td>0.22</td>\n",
       "      <td>45.98</td>\n",
       "    </tr>\n",
       "    <tr>\n",
       "      <th>Kennen</th>\n",
       "      <td>0.25</td>\n",
       "      <td>46.17</td>\n",
       "    </tr>\n",
       "    <tr>\n",
       "      <th>Kled</th>\n",
       "      <td>0.29</td>\n",
       "      <td>46.31</td>\n",
       "    </tr>\n",
       "    <tr>\n",
       "      <th>Ziggs</th>\n",
       "      <td>0.32</td>\n",
       "      <td>46.47</td>\n",
       "    </tr>\n",
       "    <tr>\n",
       "      <th>Qiyana</th>\n",
       "      <td>0.33</td>\n",
       "      <td>46.60</td>\n",
       "    </tr>\n",
       "  </tbody>\n",
       "</table>\n",
       "</div>"
      ],
      "text/plain": [
       "         Pick Rate  Win Rate\n",
       "Name                        \n",
       "Ivern         0.14     44.03\n",
       "Skarner       0.17     44.36\n",
       "Quinn         0.17     44.44\n",
       "Neeko         0.21     45.89\n",
       "Annie         0.21     45.92\n",
       "Shyvana       0.22     45.98\n",
       "Kennen        0.25     46.17\n",
       "Kled          0.29     46.31\n",
       "Ziggs         0.32     46.47\n",
       "Qiyana        0.33     46.60"
      ]
     },
     "execution_count": 30,
     "metadata": {},
     "output_type": "execute_result"
    }
   ],
   "source": [
    "lowest_winrates = df.sort_values('Win %', ascending=True).head(10)\n",
    "lowest_pickrates = df.sort_values('Pick %', ascending=True).head(10)\n",
    "least_played_df = pd.DataFrame({'Pick Rate': lowest_pickrates['Pick %'].values,\n",
    "                       'Win Rate': lowest_winrates['Win %'].values},\n",
    "                      index=lowest_pickrates['Name'])\n",
    "least_played_df"
   ]
  },
  {
   "cell_type": "markdown",
   "metadata": {},
   "source": [
    "In this we can see that if a champion has a very low winrate, it automatically has a very low pick rate which means that players are going for winning champs in general."
   ]
  },
  {
   "cell_type": "markdown",
   "metadata": {},
   "source": [
    "#### Q5: What roles and champions in those roles have the lowest and highest KDA's?"
   ]
  },
  {
   "cell_type": "code",
   "execution_count": 31,
   "metadata": {},
   "outputs": [
    {
     "name": "stdout",
     "output_type": "stream",
     "text": [
      "Role: ADC\n",
      "             Name   KDA\n",
      "12       Aphelios  1.95\n",
      "226         Yasuo  2.00\n",
      "202         Vayne  2.09\n",
      "34         Draven  2.12\n",
      "73        Kalista  2.22\n",
      "90        Kog'Maw  2.23\n",
      "121         Nilah  2.23\n",
      "108  Miss Fortune  2.26\n",
      "77        Karthus  2.28\n",
      "97         Lucian  2.29\n",
      "\n",
      "Role: JUNGLE\n",
      "          Name   KDA\n",
      "107  Master Yi  2.13\n",
      "66         Jax  2.21\n",
      "216    Warwick  2.21\n",
      "135     Qiyana  2.23\n",
      "87     Kindred  2.26\n",
      "223   Xin Zhao  2.30\n",
      "234        Zed  2.31\n",
      "125       Olaf  2.33\n",
      "145     Rengar  2.35\n",
      "18    Bel'Veth  2.39\n",
      "\n",
      "Role: MID\n",
      "             Name   KDA\n",
      "224         Yasuo  1.75\n",
      "59         Irelia  1.85\n",
      "227          Yone  1.94\n",
      "57   Heimerdinger  2.01\n",
      "21          Brand  2.04\n",
      "144      Renekton  2.06\n",
      "201         Varus  2.08\n",
      "32          Diana  2.09\n",
      "134        Qiyana  2.09\n",
      "16           Azir  2.12\n",
      "\n",
      "Role: SUPPORT\n",
      "             Name   KDA\n",
      "20          Brand  1.85\n",
      "130      Pantheon  1.92\n",
      "103      Malphite  1.96\n",
      "238         Ziggs  2.04\n",
      "119         Neeko  2.06\n",
      "109  Miss Fortune  2.08\n",
      "196        Twitch  2.09\n",
      "56   Heimerdinger  2.10\n",
      "41   Fiddlesticks  2.11\n",
      "242           Zoe  2.14\n",
      "\n",
      "Role: TOP\n",
      "        Name   KDA\n",
      "58    Illaoi  1.48\n",
      "225    Yasuo  1.49\n",
      "229   Yorick  1.56\n",
      "203    Vayne  1.61\n",
      "191  Trundle  1.63\n",
      "228     Yone  1.63\n",
      "60    Irelia  1.67\n",
      "168     Sion  1.67\n",
      "42     Fiora  1.72\n",
      "65       Jax  1.75\n",
      "\n"
     ]
    }
   ],
   "source": [
    "grouped_roles = df.groupby('Role')\n",
    "\n",
    "for role, group in grouped_roles:\n",
    "    print(f\"Role: {role}\")\n",
    "    lowest_kda = group.nsmallest(10, 'KDA')\n",
    "    print(lowest_kda[['Name', 'KDA']])\n",
    "    print()"
   ]
  },
  {
   "cell_type": "markdown",
   "metadata": {},
   "source": [
    "We can see that the highest KDA's are for ADC, and the lowest for TOP. That's because on TOP are played mostly tanks which are not damage dealers and ADC are the main source of the damage in a team."
   ]
  },
  {
   "cell_type": "markdown",
   "metadata": {},
   "source": [
    "## Inferences and Conclusion\n",
    "\n",
    "**We analyzed this dataset and have seen which champions are the most or least played based on different factors. We came to the conclusion that if a champion's winrate is high the pick rate, ban rate and also the tier are also high. Looking at the KDA of the champion is meaningless when choosing it. And also the trend always goes both down and up, meaning that there is always variation with almost each patch in terms of what is good and not.** "
   ]
  },
  {
   "cell_type": "markdown",
   "metadata": {},
   "source": [
    "## References and Future Work\n",
    "\n",
    "**This dataset can be used to do different analysis for a specific patch. So considering that each patch can have a drastic change in what is played, it can be used as a reference to compare different patches in the game.**"
   ]
  },
  {
   "cell_type": "code",
   "execution_count": null,
   "metadata": {},
   "outputs": [
    {
     "data": {
      "application/javascript": [
       "window.require && require([\"base/js/namespace\"],function(Jupyter){Jupyter.notebook.save_checkpoint()})"
      ],
      "text/plain": [
       "<IPython.core.display.Javascript object>"
      ]
     },
     "metadata": {},
     "output_type": "display_data"
    }
   ],
   "source": [
    "import jovian\n",
    "project_name = \"best-league-of-legends-champions-to-play-in-s13-patch-13.1\"\n",
    "jovian.commit(project=project_name, files=['league-of-legends-champion-stats-13.1.csv'])"
   ]
  },
  {
   "cell_type": "code",
   "execution_count": null,
   "metadata": {},
   "outputs": [],
   "source": []
  }
 ],
 "metadata": {
  "language_info": {
   "codemirror_mode": {
    "name": "ipython",
    "version": 3
   },
   "file_extension": ".py",
   "mimetype": "text/x-python",
   "name": "python",
   "nbconvert_exporter": "python",
   "pygments_lexer": "ipython3",
   "version": "3.9.7"
  }
 },
 "nbformat": 4,
 "nbformat_minor": 4
}